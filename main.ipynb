{
 "cells": [
  {
   "cell_type": "code",
   "execution_count": 2,
   "metadata": {},
   "outputs": [],
   "source": [
    "import cv2\n",
    "import numpy as np\n",
    "\n",
    "# colors\n",
    "colors = {\n",
    "    'white': 255,\n",
    "    'light_gray': 230,\n",
    "    'gray': 170,\n",
    "    'dark_gray': 64,\n",
    "    'black': 0,\n",
    "}"
   ]
  },
  {
   "cell_type": "code",
   "execution_count": 3,
   "metadata": {},
   "outputs": [
    {
     "name": "stdout",
     "output_type": "stream",
     "text": [
      "[[143 143 143 ...  59  57  57]\n",
      " [142 143 143 ...  59  58  57]\n",
      " [141 143 144 ...  59  58  57]\n",
      " ...\n",
      " [109 113 119 ...  51  52  52]\n",
      " [109 113 119 ...  51  51  51]\n",
      " [109 113 119 ...  51  52  52]]\n",
      "(629, 629)\n"
     ]
    }
   ],
   "source": [
    "# read the image\n",
    "rgb_image = cv2.imread('images/firat.jpeg')\n",
    "\n",
    "# convert the image to grayscale\n",
    "gray_image = cv2.cvtColor(rgb_image, cv2.COLOR_BGR2GRAY)\n",
    "\n",
    "print(gray_image)\n",
    "print(gray_image.shape)"
   ]
  },
  {
   "cell_type": "code",
   "execution_count": 4,
   "metadata": {},
   "outputs": [],
   "source": [
    "# canny edge detection\n",
    "edges = cv2.Canny(gray_image, 40, 90)\n",
    "edges = cv2.bitwise_not(edges)\n",
    "\n",
    "cv2.imshow('edges', edges)"
   ]
  },
  {
   "cell_type": "code",
   "execution_count": 5,
   "metadata": {},
   "outputs": [],
   "source": [
    "# This code section removes blurry backgrounds\n",
    "\n",
    "# create a padded version of the Canny edge image\n",
    "kernel_size = (150, 150)\n",
    "padded_canny = cv2.copyMakeBorder(edges, kernel_size[0]//2, kernel_size[0]//2,\n",
    "                                  kernel_size[1]//2, kernel_size[1]//2, cv2.BORDER_CONSTANT, value=0)\n",
    "\n",
    "# create an output image\n",
    "output_image = np.zeros_like(gray_image)\n",
    "\n",
    "# iterate over each pixel in the original image\n",
    "for i in range(gray_image.shape[0]):\n",
    "    for j in range(gray_image.shape[1]):\n",
    "        # get the kernel region around the pixel\n",
    "        kernel_region = padded_canny[i:i+kernel_size[0], j:j+kernel_size[1]]\n",
    "        # if min value is 0, set the output pixel to the original value\n",
    "        if np.min(kernel_region) == 0:\n",
    "            output_image[i, j] = gray_image[i, j]\n",
    "        else:\n",
    "            # else, set the output pixel to grey\n",
    "            output_image[i, j] = 224\n",
    "\n",
    "# remove the padding\n",
    "output_image = output_image[kernel_size[0]//2:-kernel_size[0]//2, kernel_size[1]//2:-kernel_size[1]//2]\n",
    "\n",
    "cv2.imshow('output_image', output_image)\n",
    "\n",
    "# key = cv2.waitKey(0)\n",
    "\n",
    "# # Check the pressed key\n",
    "# if key == ord('q'):\n",
    "#     # If 'q' is pressed, close the window and exit\n",
    "#     cv2.destroyAllWindows()"
   ]
  },
  {
   "cell_type": "code",
   "execution_count": 5,
   "metadata": {},
   "outputs": [],
   "source": [
    "# map each pixel of the gray image to the closest color\n",
    "output_image = gray_image\n",
    "\n",
    "gray_filter = np.zeros_like(output_image)\n",
    "for i in range(output_image.shape[0]):\n",
    "    for j in range(output_image.shape[1]):\n",
    "        if output_image[i, j] <= 42:\n",
    "            gray_filter[i, j] = colors['black']\n",
    "        elif output_image[i, j] <= 100:\n",
    "            gray_filter[i, j] = colors['dark_gray']\n",
    "        elif output_image[i, j] <= 160:\n",
    "            gray_filter[i, j] = colors['gray']\n",
    "        elif output_image[i, j] <= 230:\n",
    "            gray_filter[i, j] = colors['light_gray']\n",
    "        else:\n",
    "            gray_filter[i, j] = colors['white']\n",
    "\n",
    "# display the image\n",
    "cv2.imshow('gray_image', gray_image)\n",
    "cv2.imshow('gray_filter', gray_filter)\n",
    "\n",
    "key = cv2.waitKey(0)\n",
    "\n",
    "# check the pressed key\n",
    "if key == ord('q'):\n",
    "    # if 'q' is pressed, close the window and exit\n",
    "    cv2.destroyAllWindows() "
   ]
  }
 ],
 "metadata": {
  "kernelspec": {
   "display_name": "venv",
   "language": "python",
   "name": "python3"
  },
  "language_info": {
   "codemirror_mode": {
    "name": "ipython",
    "version": 3
   },
   "file_extension": ".py",
   "mimetype": "text/x-python",
   "name": "python",
   "nbconvert_exporter": "python",
   "pygments_lexer": "ipython3",
   "version": "3.11.5"
  }
 },
 "nbformat": 4,
 "nbformat_minor": 2
}
